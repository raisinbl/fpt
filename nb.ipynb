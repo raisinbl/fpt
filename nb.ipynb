{
 "cells": [
  {
   "cell_type": "code",
   "execution_count": null,
   "metadata": {},
   "outputs": [],
   "source": [
    "import pandas as pd\n",
    "import sqlite3\n",
    "import re\n",
    "from datetime import datetime\n",
    "\n",
    "# File paths\n",
    "CUSTOMERS_CSV = \"data/sources/customers.csv\"\n",
    "TRANSACTIONS_CSV = \"data/sources/transactions.csv\"\n",
    "PRODUCTS_CSV = \"data/sources/products.csv\"\n",
    "DB_NAME = \"retail_data.db\"\n",
    "\n",
    "# Helper functions\n",
    "def is_valid_email(email):\n",
    "    return re.match(r\"^[a-zA-Z0-9._%+-]+@[a-zA-Z0-9.-]+\\.[a-zA-Z]{2,}$\", str(email))\n",
    "\n",
    "def is_valid_date(date_str):\n",
    "    try:\n",
    "        datetime.strptime(date_str, \"%Y-%m-%d\")\n",
    "        return True\n",
    "    except ValueError:\n",
    "        return False\n",
    "\n",
    "def clean_customers(df):\n",
    "    df = df.dropna(subset=[\"email\"])\n",
    "    df = df[df[\"email\"].apply(is_valid_email)]\n",
    "    return df\n",
    "\n",
    "def clean_transactions(df):\n",
    "    df = df.drop_duplicates()\n",
    "    df = df[df[\"transaction_date\"].apply(is_valid_date)]\n",
    "    return df\n",
    "\n",
    "def clean_products(df):\n",
    "    df[\"category\"] = df[\"category\"].str.strip().str.lower().str.capitalize()\n",
    "    return df\n",
    "\n",
    "def load_to_db(df, table_name, conn):\n",
    "    df.to_sql(table_name, conn, if_exists='replace', index=False)\n"
   ]
  },
  {
   "cell_type": "code",
   "execution_count": null,
   "metadata": {},
   "outputs": [],
   "source": [
    "customers = pd.read_csv(CUSTOMERS_CSV)"
   ]
  },
  {
   "cell_type": "code",
   "execution_count": null,
   "metadata": {},
   "outputs": [],
   "source": [
    "customers.head()"
   ]
  },
  {
   "cell_type": "code",
   "execution_count": null,
   "metadata": {},
   "outputs": [],
   "source": [
    "def main():\n",
    "    # Extract\n",
    "    customers = pd.read_csv(CUSTOMERS_CSV)\n",
    "    transactions = pd.read_csv(TRANSACTIONS_CSV)\n",
    "    products = pd.read_csv(PRODUCTS_CSV)\n",
    "    \n",
    "    # Transform\n",
    "    customers = clean_customers(customers)\n",
    "    transactions = clean_transactions(transactions)\n",
    "    products = clean_products(products)\n",
    "    \n",
    "    # Load\n",
    "    conn = sqlite3.connect(DB_NAME)\n",
    "    load_to_db(customers, \"customers\", conn)\n",
    "    load_to_db(transactions, \"transactions\", conn)\n",
    "    load_to_db(products, \"products\", conn)\n",
    "    \n",
    "    # Create customer_revenue table\n",
    "    aggregation_query = \"\"\"\n",
    "        CREATE TABLE IF NOT EXISTS customer_revenue AS\n",
    "        SELECT c.customer_id, SUM(t.amount) AS total_amount\n",
    "        FROM transactions t\n",
    "        JOIN customers c ON t.customer_id = c.customer_id\n",
    "        GROUP BY c.customer_id\n",
    "    \"\"\"\n",
    "    conn.execute(aggregation_query)\n",
    "    conn.commit()\n",
    "    conn.close()"
   ]
  },
  {
   "cell_type": "code",
   "execution_count": null,
   "metadata": {},
   "outputs": [],
   "source": []
  }
 ],
 "metadata": {
  "kernelspec": {
   "display_name": "Python 3",
   "language": "python",
   "name": "python3"
  },
  "language_info": {
   "codemirror_mode": {
    "name": "ipython",
    "version": 3
   },
   "file_extension": ".py",
   "mimetype": "text/x-python",
   "name": "python",
   "nbconvert_exporter": "python",
   "pygments_lexer": "ipython3",
   "version": "3.12.9"
  }
 },
 "nbformat": 4,
 "nbformat_minor": 2
}
