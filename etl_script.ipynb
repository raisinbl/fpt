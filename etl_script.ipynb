{
 "cells": [
  {
   "cell_type": "markdown",
   "metadata": {},
   "source": [
    "import lib"
   ]
  },
  {
   "cell_type": "code",
   "execution_count": 1,
   "metadata": {},
   "outputs": [],
   "source": [
    "import warnings\n",
    "import pandas as pd\n",
    "import sqlite3\n",
    "\n",
    "warnings.filterwarnings('ignore')"
   ]
  },
  {
   "cell_type": "markdown",
   "metadata": {},
   "source": [
    "# Extract"
   ]
  },
  {
   "cell_type": "code",
   "execution_count": 2,
   "metadata": {},
   "outputs": [],
   "source": [
    "# File paths\n",
    "CUSTOMERS_CSV = \"data/sources/customers.csv\"\n",
    "TRANSACTIONS_CSV = \"data/sources/transactions.csv\"\n",
    "PRODUCTS_CSV = \"data/sources/products.csv\"\n",
    "DB_NAME = \"retail_data.db\"\n",
    "\n",
    "# Extract\n",
    "customers = pd.read_csv(CUSTOMERS_CSV)\n",
    "transactions = pd.read_csv(TRANSACTIONS_CSV)\n",
    "products = pd.read_csv(PRODUCTS_CSV)"
   ]
  },
  {
   "cell_type": "markdown",
   "metadata": {},
   "source": [
    "# Transform"
   ]
  },
  {
   "cell_type": "markdown",
   "metadata": {},
   "source": [
    "For each data source, the cleaned data frame will set the name `proc_*`"
   ]
  },
  {
   "cell_type": "markdown",
   "metadata": {},
   "source": [
    "## Customers"
   ]
  },
  {
   "cell_type": "code",
   "execution_count": 3,
   "metadata": {},
   "outputs": [
    {
     "data": {
      "text/plain": [
       "995             @example.com\n",
       "996    anneparks@example.org\n",
       "997       cjones@example.net\n",
       "998    coreyhill@example.org\n",
       "999         remember@example\n",
       "Name: email, dtype: object"
      ]
     },
     "execution_count": 3,
     "metadata": {},
     "output_type": "execute_result"
    }
   ],
   "source": [
    "customers[\"email\"].tail()"
   ]
  },
  {
   "cell_type": "markdown",
   "metadata": {},
   "source": [
    "reference **gmail**'s mail naming convention\n",
    "\n",
    "A valid email is a set of characters in format `username` `@` `domain` whereas:\n",
    "\n",
    "   - a valid `username` which is:\n",
    "      - start character must be a letter `(a-z)` or digit `(0-9)`\n",
    "      - other character must be a letter `(a-z)`,  digit `(0-9)` or dot `(.)`\n",
    "   - a valid `domain` which is:\n",
    "      - start with group of characters only letter `(a-z)` or digit `(0-9)`\n",
    "      - next character is dot `(.)`\n",
    "      - end with group of characters only letter `(a-z)` or digit `(0-9)`\n",
    "\n",
    "row index 995 and 999 at above dataframe has invalid email address"
   ]
  },
  {
   "cell_type": "markdown",
   "metadata": {},
   "source": [
    "**Processing**"
   ]
  },
  {
   "cell_type": "code",
   "execution_count": 4,
   "metadata": {},
   "outputs": [
    {
     "data": {
      "text/plain": [
       "3        invalid_email@\n",
       "14    email.example.com\n",
       "17      machine@example\n",
       "21    email.example.com\n",
       "26    agreement@example\n",
       "Name: email, dtype: object"
      ]
     },
     "execution_count": 4,
     "metadata": {},
     "output_type": "execute_result"
    }
   ],
   "source": [
    "# vaild email pattern\n",
    "pattern = r\"^[a-zA-Z0-9][a-zA-Z0-9.]+@[a-zA-Z0-9]+\\.([a-zA-Z0-9]+)$\"\n",
    "valid_emails = customers[\"email\"].str.contains(pattern)\n",
    "# customers with invalid email\n",
    "invalid_email_customers = customers[~valid_emails]\n",
    "# check invalid email\n",
    "invalid_email_customers[\"email\"].head(5)"
   ]
  },
  {
   "cell_type": "markdown",
   "metadata": {},
   "source": [
    "**Processed Customer**"
   ]
  },
  {
   "cell_type": "code",
   "execution_count": 5,
   "metadata": {},
   "outputs": [],
   "source": [
    "# customers with valid email\n",
    "proc_customers = customers[valid_emails]"
   ]
  },
  {
   "cell_type": "markdown",
   "metadata": {},
   "source": [
    "## Product"
   ]
  },
  {
   "cell_type": "code",
   "execution_count": 6,
   "metadata": {},
   "outputs": [
    {
     "data": {
      "text/plain": [
       "array(['fashion', 'electronics', 'Electronics', 'home', 'Home', 'Fashion'],\n",
       "      dtype=object)"
      ]
     },
     "execution_count": 6,
     "metadata": {},
     "output_type": "execute_result"
    }
   ],
   "source": [
    "products[\"category\"].unique()"
   ]
  },
  {
   "cell_type": "markdown",
   "metadata": {},
   "source": [
    "For this data set, we only need to lowercase to make them consistent.\n",
    "\n",
    "**Processed Product**"
   ]
  },
  {
   "cell_type": "code",
   "execution_count": 7,
   "metadata": {},
   "outputs": [
    {
     "data": {
      "text/plain": [
       "array(['fashion', 'electronics', 'home'], dtype=object)"
      ]
     },
     "execution_count": 7,
     "metadata": {},
     "output_type": "execute_result"
    }
   ],
   "source": [
    "proc_products = products.copy()\n",
    "proc_products[\"category\"] = products[\"category\"].apply(lambda x: x.lower())\n",
    "# check\n",
    "proc_products[\"category\"].unique()"
   ]
  },
  {
   "cell_type": "markdown",
   "metadata": {},
   "source": [
    "## Transaction"
   ]
  },
  {
   "cell_type": "markdown",
   "metadata": {},
   "source": [
    "### Deduplicate"
   ]
  },
  {
   "cell_type": "code",
   "execution_count": 8,
   "metadata": {},
   "outputs": [
    {
     "data": {
      "text/plain": [
       "1000"
      ]
     },
     "execution_count": 8,
     "metadata": {},
     "output_type": "execute_result"
    }
   ],
   "source": [
    "transactions[\"transaction_id\"].duplicated().sum()"
   ]
  },
  {
   "cell_type": "code",
   "execution_count": 9,
   "metadata": {},
   "outputs": [
    {
     "data": {
      "text/plain": [
       "1000"
      ]
     },
     "execution_count": 9,
     "metadata": {},
     "output_type": "execute_result"
    }
   ],
   "source": [
    "transactions.duplicated().sum()"
   ]
  },
  {
   "cell_type": "markdown",
   "metadata": {},
   "source": [
    "- If we got duplication on whole row contents -> keep only one unique row\n",
    "- if duplication on `transaction_id` -> source data has problems\n",
    "\n",
    "In our situation, `drop_duplicates()` is enough"
   ]
  },
  {
   "cell_type": "code",
   "execution_count": 10,
   "metadata": {},
   "outputs": [],
   "source": [
    "dedup_transactions = transactions.drop_duplicates()"
   ]
  },
  {
   "cell_type": "markdown",
   "metadata": {},
   "source": [
    "### handle invalid transaction dates"
   ]
  },
  {
   "cell_type": "code",
   "execution_count": 11,
   "metadata": {},
   "outputs": [
    {
     "name": "stdout",
     "output_type": "stream",
     "text": [
      "num transaction in format dd/mm/yyyy is:  159872\n"
     ]
    }
   ],
   "source": [
    "# count how many date are in the format DD/MM/YYYY\n",
    "transactions_dd_mm_yyyy = dedup_transactions[dedup_transactions[\"transaction_date\"].str.contains(r\"^\\d{2}/\\d{2}/\\d{4}$\")]\n",
    "print(\"num transaction in format dd/mm/yyyy is: \", transactions_dd_mm_yyyy.count().max())"
   ]
  },
  {
   "cell_type": "code",
   "execution_count": 12,
   "metadata": {},
   "outputs": [
    {
     "name": "stdout",
     "output_type": "stream",
     "text": [
      "num transaction in format yyyy-mm-dd is:  32040\n"
     ]
    }
   ],
   "source": [
    "# count how many date are in the format YYYY-MM-DD\n",
    "transactions_yyyy_mm_dd = dedup_transactions[dedup_transactions[\"transaction_date\"].str.contains(r\"^\\d{4}-\\d{2}-\\d{2}$\")]\n",
    "print(\"num transaction in format yyyy-mm-dd is: \", transactions_yyyy_mm_dd.count().max())"
   ]
  },
  {
   "cell_type": "code",
   "execution_count": 13,
   "metadata": {},
   "outputs": [
    {
     "name": "stdout",
     "output_type": "stream",
     "text": [
      "invalid_transactions count:  8088\n"
     ]
    }
   ],
   "source": [
    "# locate the other date format that is not in the two above format\n",
    "invalid_transactions = dedup_transactions[~dedup_transactions[\"transaction_date\"].str.contains(r\"(^\\d{2}/\\d{2}/\\d{4}$)|(^\\d{4}-\\d{2}-\\d{2}$)\")]\n",
    "print(\"invalid_transactions count: \", invalid_transactions.count().max())"
   ]
  },
  {
   "cell_type": "code",
   "execution_count": 14,
   "metadata": {},
   "outputs": [
    {
     "data": {
      "text/plain": [
       "8             enough\n",
       "20           million\n",
       "23           involve\n",
       "27            single\n",
       "29             first\n",
       "             ...    \n",
       "199931        parent\n",
       "199944    production\n",
       "199963          most\n",
       "199980       medical\n",
       "199992          such\n",
       "Name: transaction_date, Length: 8088, dtype: object"
      ]
     },
     "execution_count": 14,
     "metadata": {},
     "output_type": "execute_result"
    }
   ],
   "source": [
    "invalid_transactions['transaction_date']"
   ]
  },
  {
   "cell_type": "markdown",
   "metadata": {},
   "source": [
    "Most of them are text, we can skip it\n",
    "\n",
    "We dont know for the date that in slash-break format is in `dd/mm/yyyy` or `mm/dd/yyyy`, try using pandas convert datetime function helper, if no `ValueError` exception is raised, our assumption is correct"
   ]
  },
  {
   "cell_type": "code",
   "execution_count": 15,
   "metadata": {},
   "outputs": [],
   "source": [
    "_ = pd.to_datetime(transactions_dd_mm_yyyy[\"transaction_date\"], format=\"%d/%m/%Y\")"
   ]
  },
  {
   "cell_type": "markdown",
   "metadata": {},
   "source": [
    "*No error*! So the slash-break datetime format is `dd/mm/yyyy` format.\n",
    "\n",
    "Move forward to have a view on `yyyy-mm-dd`(or `yyyy-dd-mm`) format"
   ]
  },
  {
   "cell_type": "code",
   "execution_count": 16,
   "metadata": {},
   "outputs": [
    {
     "data": {
      "text/plain": [
       "3     2023-02-30\n",
       "4     2025-01-40\n",
       "5     2023-02-30\n",
       "13    2024-13-45\n",
       "21    2024-13-45\n",
       "Name: transaction_date, dtype: object"
      ]
     },
     "execution_count": 16,
     "metadata": {},
     "output_type": "execute_result"
    }
   ],
   "source": [
    "transactions_yyyy_mm_dd[\"transaction_date\"].head()"
   ]
  },
  {
   "cell_type": "code",
   "execution_count": 17,
   "metadata": {},
   "outputs": [
    {
     "name": "stdout",
     "output_type": "stream",
     "text": [
      "True\n",
      "True\n"
     ]
    }
   ],
   "source": [
    "# try to convert the date to datetime, if it fails, return these rows to na then compare with original num rows\n",
    "# try %Y-%m-%d\n",
    "converted_transaction_yyyy_mm_dd = pd.to_datetime(transactions_yyyy_mm_dd[\"transaction_date\"], format=\"%Y-%m-%d\", errors=\"coerce\")\n",
    "print(converted_transaction_yyyy_mm_dd.isna().count() == transactions_yyyy_mm_dd[\"transaction_date\"].count())\n",
    "# try %Y-%d-%m\n",
    "converted_transaction_yyyy_dd_mm = pd.to_datetime(transactions_yyyy_mm_dd[\"transaction_date\"], format=\"%Y-%d-%m\", errors=\"coerce\")\n",
    "print(converted_transaction_yyyy_dd_mm.isna().count() == transactions_yyyy_mm_dd[\"transaction_date\"].count())"
   ]
  },
  {
   "cell_type": "markdown",
   "metadata": {},
   "source": [
    "So we know that all of these `%Y-%m-%d` transaction date is invalid format\n",
    "\n",
    "Final processed transactions: "
   ]
  },
  {
   "cell_type": "code",
   "execution_count": 18,
   "metadata": {},
   "outputs": [],
   "source": [
    "# add these invalid transaction date to invalid_transactions df\n",
    "invalid_transactions = pd.concat([invalid_transactions, transactions_yyyy_mm_dd])\n",
    "# valid transactions\n",
    "proc_transactions = dedup_transactions[~dedup_transactions[\"transaction_id\"].isin(invalid_transactions[\"transaction_id\"])]\n",
    "proc_transactions[\"transaction_date\"] = pd.to_datetime(proc_transactions[\"transaction_date\"], format=\"%d/%m/%Y\")  # convert to datetime"
   ]
  },
  {
   "cell_type": "markdown",
   "metadata": {},
   "source": [
    "# Load"
   ]
  },
  {
   "cell_type": "markdown",
   "metadata": {},
   "source": [
    "After processing data, From 3 original dataframe, we got `proc_*` dataframe which is cleaned data."
   ]
  },
  {
   "cell_type": "code",
   "execution_count": 19,
   "metadata": {},
   "outputs": [
    {
     "data": {
      "text/plain": [
       "50000"
      ]
     },
     "execution_count": 19,
     "metadata": {},
     "output_type": "execute_result"
    }
   ],
   "source": [
    "# Load the cleaned data into a SQLite database with three tables: customers, transactions, and products.\n",
    "conn = sqlite3.connect(DB_NAME)\n",
    "# write to db\n",
    "proc_customers.to_sql(\"customers\", conn, if_exists=\"replace\", index=False)\n",
    "proc_transactions.to_sql(\"transactions\", conn, if_exists=\"replace\", index=False)\n",
    "proc_products.to_sql(\"products\", conn, if_exists=\"replace\", index=False)"
   ]
  },
  {
   "cell_type": "code",
   "execution_count": 20,
   "metadata": {},
   "outputs": [
    {
     "data": {
      "text/plain": [
       "'CREATE TABLE \"transactions\" (\\n\"transaction_id\" TEXT,\\n  \"customer_id\" TEXT,\\n  \"transaction_date\" TIMESTAMP,\\n  \"amount\" REAL\\n)'"
      ]
     },
     "execution_count": 20,
     "metadata": {},
     "output_type": "execute_result"
    }
   ],
   "source": [
    "pd.read_sql(\n",
    "  sql=\"\"\"\n",
    "  SELECT sql\n",
    "  FROM sqlite_master\n",
    "  WHERE type = 'table' AND name = 'transactions'\n",
    "  \"\"\", con=conn).values[0][0]"
   ]
  },
  {
   "cell_type": "markdown",
   "metadata": {},
   "source": [
    "# Data Aggregation"
   ]
  },
  {
   "cell_type": "markdown",
   "metadata": {},
   "source": [
    "> Write a SQL query to calculate the total transaction amount per customer and save the results in a new table called `customer_revenue`."
   ]
  },
  {
   "cell_type": "code",
   "execution_count": 21,
   "metadata": {},
   "outputs": [
    {
     "data": {
      "text/plain": [
       "1000"
      ]
     },
     "execution_count": 21,
     "metadata": {},
     "output_type": "execute_result"
    }
   ],
   "source": [
    "customer_revenue = pd.read_sql(\n",
    "  sql=\"\"\"\n",
    "  SELECT customer_id, sum(amount) as total_transaction_amount\n",
    "  FROM transactions\n",
    "  GROUP BY customer_id\n",
    "  \"\"\", con=conn)\n",
    "\n",
    "customer_revenue.to_sql(\"customer_revenue\", conn, if_exists=\"replace\", index=False)"
   ]
  },
  {
   "cell_type": "code",
   "execution_count": 22,
   "metadata": {},
   "outputs": [
    {
     "data": {
      "text/html": [
       "<div>\n",
       "<style scoped>\n",
       "    .dataframe tbody tr th:only-of-type {\n",
       "        vertical-align: middle;\n",
       "    }\n",
       "\n",
       "    .dataframe tbody tr th {\n",
       "        vertical-align: top;\n",
       "    }\n",
       "\n",
       "    .dataframe thead th {\n",
       "        text-align: right;\n",
       "    }\n",
       "</style>\n",
       "<table border=\"1\" class=\"dataframe\">\n",
       "  <thead>\n",
       "    <tr style=\"text-align: right;\">\n",
       "      <th></th>\n",
       "      <th>customer_id</th>\n",
       "      <th>total_transaction_amount</th>\n",
       "    </tr>\n",
       "  </thead>\n",
       "  <tbody>\n",
       "    <tr>\n",
       "      <th>0</th>\n",
       "      <td>004454d5-8b28-4675-ac13-ffef982bc471</td>\n",
       "      <td>72340.74</td>\n",
       "    </tr>\n",
       "    <tr>\n",
       "      <th>1</th>\n",
       "      <td>009d8fce-6cef-4fb3-b7c3-59ce09c1e58a</td>\n",
       "      <td>73812.20</td>\n",
       "    </tr>\n",
       "    <tr>\n",
       "      <th>2</th>\n",
       "      <td>0131b090-2ca1-48f5-bf15-35b3f1923bdd</td>\n",
       "      <td>86753.93</td>\n",
       "    </tr>\n",
       "    <tr>\n",
       "      <th>3</th>\n",
       "      <td>014c1663-714f-4ea4-9d3a-9d477224044e</td>\n",
       "      <td>76594.32</td>\n",
       "    </tr>\n",
       "    <tr>\n",
       "      <th>4</th>\n",
       "      <td>01bd6b97-54eb-4413-85d8-c78fadf1e6f6</td>\n",
       "      <td>75030.63</td>\n",
       "    </tr>\n",
       "  </tbody>\n",
       "</table>\n",
       "</div>"
      ],
      "text/plain": [
       "                            customer_id  total_transaction_amount\n",
       "0  004454d5-8b28-4675-ac13-ffef982bc471                  72340.74\n",
       "1  009d8fce-6cef-4fb3-b7c3-59ce09c1e58a                  73812.20\n",
       "2  0131b090-2ca1-48f5-bf15-35b3f1923bdd                  86753.93\n",
       "3  014c1663-714f-4ea4-9d3a-9d477224044e                  76594.32\n",
       "4  01bd6b97-54eb-4413-85d8-c78fadf1e6f6                  75030.63"
      ]
     },
     "execution_count": 22,
     "metadata": {},
     "output_type": "execute_result"
    }
   ],
   "source": [
    "pd.read_sql(\n",
    "  sql=\"select * from customer_revenue\", con=conn).head()"
   ]
  }
 ],
 "metadata": {
  "kernelspec": {
   "display_name": "Python 3",
   "language": "python",
   "name": "python3"
  },
  "language_info": {
   "codemirror_mode": {
    "name": "ipython",
    "version": 3
   },
   "file_extension": ".py",
   "mimetype": "text/x-python",
   "name": "python",
   "nbconvert_exporter": "python",
   "pygments_lexer": "ipython3",
   "version": "3.12.9"
  }
 },
 "nbformat": 4,
 "nbformat_minor": 2
}
